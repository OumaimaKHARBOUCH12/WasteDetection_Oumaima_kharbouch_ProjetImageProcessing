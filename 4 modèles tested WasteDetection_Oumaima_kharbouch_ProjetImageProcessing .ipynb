{
  "nbformat": 4,
  "nbformat_minor": 0,
  "metadata": {
    "colab": {
      "name": "WasteDetection_Oumaima_kharbouch_ProjetImageProcessing.ipynb",
      "provenance": [],
      "collapsed_sections": [],
      "toc_visible": true
    },
    "kernelspec": {
      "name": "python3",
      "display_name": "Python 3"
    }
  },
  "cells": [
    {
      "cell_type": "markdown",
      "metadata": {
        "id": "AW-PdE3_4CPT"
      },
      "source": [
        "# **My notebook**"
      ]
    },
    {
      "cell_type": "code",
      "metadata": {
        "colab": {
          "base_uri": "https://localhost:8080/"
        },
        "id": "cNRjg682afP6",
        "outputId": "8d89555c-7b12-4819-97d3-73331f911ccf"
      },
      "source": [
        "from google.colab import drive\r\n",
        "drive.mount('/content/drive/')"
      ],
      "execution_count": 1,
      "outputs": [
        {
          "output_type": "stream",
          "text": [
            "Drive already mounted at /content/drive/; to attempt to forcibly remount, call drive.mount(\"/content/drive/\", force_remount=True).\n"
          ],
          "name": "stdout"
        }
      ]
    },
    {
      "cell_type": "code",
      "metadata": {
        "colab": {
          "base_uri": "https://localhost:8080/"
        },
        "id": "flFaT59I7KFc",
        "outputId": "1bc66bfb-918a-4590-f210-a920d1ff6127"
      },
      "source": [
        "!git clone https://github.com/Oumaima117/WasteDetection_Oumaima_kharbouch_ProjetImageProcessing/blob/main/projet"
      ],
      "execution_count": 5,
      "outputs": [
        {
          "output_type": "stream",
          "text": [
            "Cloning into 'projet'...\n",
            "fatal: repository 'https://github.com/Oumaima117/WasteDetection_Oumaima_kharbouch_ProjetImageProcessing/blob/main/projet/' not found\n"
          ],
          "name": "stdout"
        }
      ]
    },
    {
      "cell_type": "markdown",
      "metadata": {
        "id": "gTC90N2I4CHx"
      },
      "source": [
        "### ** Modèle1: ANN **"
      ]
    },
    {
      "cell_type": "code",
      "metadata": {
        "id": "_9Ad5XRZcfKp"
      },
      "source": [
        "from os import listdir\r\n",
        "import os\r\n",
        "from os.path import join\r\n",
        "import numpy as np \r\n",
        "import pandas as pd \r\n",
        "import matplotlib.pyplot as plt\r\n",
        "import matplotlib.image as img\r\n",
        "import cv2"
      ],
      "execution_count": null,
      "outputs": []
    },
    {
      "cell_type": "code",
      "metadata": {
        "id": "xJ7L0k-7c21P"
      },
      "source": [
        "train_o='/content/drive/MyDrive/DATASET/TRAIN/O'#la proportion destinée à l'entrainement de la dataset des matières organinque\r\n",
        "train_r='/content/drive/MyDrive/DATASET/TRAIN/R'#la proportion destinée à l'entrainement de la dataset des matières destinées au recyclage\r\n",
        "test_o='/content/drive/MyDrive/DATASET/TEST/O'##la proportion destinée au test de la dataset des matières organinques\r\n",
        "test_r='/content/drive/MyDrive/DATASET/TEST/R'#la proportion destinée au test de la dataset des matières destinées au recyclage"
      ],
      "execution_count": null,
      "outputs": []
    },
    {
      "cell_type": "code",
      "metadata": {
        "colab": {
          "base_uri": "https://localhost:8080/"
        },
        "id": "dzlroXKnhAia",
        "outputId": "53427712-b6fb-4573-ac20-0c81a224c0b0"
      },
      "source": [
        "# \"0\" for the organic food and \"1\" for the not.\r\n",
        "x = np.concatenate((X1[0:400],X2[0:400]), axis = 0)\r\n",
        "\r\n",
        "zero = np.zeros(400)\r\n",
        "one = np.ones(400)\r\n",
        "\r\n",
        "y = np.concatenate((zero,one), axis = 0).reshape(-1,1)\r\n",
        "print(\"x shape :\", x.shape)\r\n",
        "print(\"y shape :\", y.shape)"
      ],
      "execution_count": null,
      "outputs": [
        {
          "output_type": "stream",
          "text": [
            "x shape : (800, 4096)\n",
            "y shape : (800, 1)\n"
          ],
          "name": "stdout"
        }
      ]
    },
    {
      "cell_type": "code",
      "metadata": {
        "id": "K9dcs2YAhAs9"
      },
      "source": [
        "from sklearn.model_selection import train_test_split\r\n",
        "x_train,x_test,y_train,y_test= train_test_split(x,y,test_size=0.15,random_state=42)\r\n",
        "number_of_train=x_train.shape[0]\r\n",
        "number_of_test=x_test.shape[0]"
      ],
      "execution_count": null,
      "outputs": []
    },
    {
      "cell_type": "code",
      "metadata": {
        "colab": {
          "base_uri": "https://localhost:8080/"
        },
        "id": "W6H-SUZzhAzs",
        "outputId": "866f99ec-e653-4ed3-8d42-7ea818577c51"
      },
      "source": [
        "print(\"X train \",x_train.shape)\r\n",
        "print(\"X test \",x_test.shape)"
      ],
      "execution_count": null,
      "outputs": [
        {
          "output_type": "stream",
          "text": [
            "X train  (680, 4096)\n",
            "X test  (120, 4096)\n"
          ],
          "name": "stdout"
        }
      ]
    },
    {
      "cell_type": "code",
      "metadata": {
        "colab": {
          "base_uri": "https://localhost:8080/"
        },
        "id": "ou7O8fu7UOfa",
        "outputId": "c2ed6780-575a-4531-9062-4d466416634b"
      },
      "source": [
        "x_train = x_train.T\r\n",
        "x_test = x_test.T\r\n",
        "y_train = y_train.T\r\n",
        "y_test = y_test.T\r\n",
        "print(\"x train: \",x_train.shape)\r\n",
        "print(\"x test: \",x_test.shape)\r\n",
        "print(\"y train: \",y_train.shape)\r\n",
        "print(\"y test: \",y_test.shape)\r\n"
      ],
      "execution_count": null,
      "outputs": [
        {
          "output_type": "stream",
          "text": [
            "x train:  (4096, 680)\n",
            "x test:  (4096, 120)\n",
            "y train:  (1, 680)\n",
            "y test:  (1, 120)\n"
          ],
          "name": "stdout"
        }
      ]
    },
    {
      "cell_type": "code",
      "metadata": {
        "colab": {
          "base_uri": "https://localhost:8080/"
        },
        "id": "YAlqv9U_IBg2",
        "outputId": "7a0dab79-6a63-4ab9-dc54-078c8fcb80d2"
      },
      "source": [
        "from keras.wrappers.scikit_learn import KerasClassifier\r\n",
        "from sklearn.model_selection import cross_val_score\r\n",
        "from keras.models import Sequential # initialize neural network library\r\n",
        "from keras.layers import Dense # build our layers library\r\n",
        "\r\n",
        "def build_classifier():\r\n",
        "    classifier = Sequential()\r\n",
        "    classifier.add(Dense(units =128 , kernel_initializer = 'uniform', activation = 'relu', input_dim = x_train.shape[1]))\r\n",
        "    classifier.add(Dense(units = 64, kernel_initializer = 'uniform', activation = 'relu')) \r\n",
        "    classifier.add(Dense(units = 64, kernel_initializer = 'uniform', activation = 'relu')) \r\n",
        "    classifier.add(Dense(units = 32, kernel_initializer = 'uniform', activation = 'relu')) \r\n",
        "    classifier.add(Dense(units = 32, kernel_initializer = 'uniform', activation = 'relu')) \r\n",
        "    classifier.add(Dense(units = 16, kernel_initializer = 'uniform', activation = 'relu'))\r\n",
        "    classifier.add(Dense(units = 1, kernel_initializer = 'uniform', activation = 'sigmoid')) \r\n",
        "    classifier.compile(optimizer = 'adam', loss = 'binary_crossentropy', metrics = ['accuracy']) \r\n",
        "    return classifier               \r\n",
        "\r\n",
        "classifier = KerasClassifier(build_fn = build_classifier, epochs = 50)\r\n",
        "accuracies = cross_val_score(estimator = classifier, X = x_train, y = y_train, cv = 4)  \r\n",
        "mean = accuracies.mean()\r\n",
        "variance = accuracies.std()\r\n",
        "print(\"Accuracy mean: \"+ str(mean))\r\n",
        "print(\"Accuracy variance: \"+ str(variance))\r\n"
      ],
      "execution_count": null,
      "outputs": [
        {
          "output_type": "stream",
          "text": [
            "Epoch 1/50\n",
            "16/16 [==============================] - 1s 6ms/step - loss: 0.6916 - accuracy: 0.4949\n",
            "Epoch 2/50\n",
            "16/16 [==============================] - 0s 6ms/step - loss: 0.6667 - accuracy: 0.5588\n",
            "Epoch 3/50\n",
            "16/16 [==============================] - 0s 6ms/step - loss: 0.6861 - accuracy: 0.5223\n",
            "Epoch 4/50\n",
            "16/16 [==============================] - 0s 6ms/step - loss: 0.6836 - accuracy: 0.4865\n",
            "Epoch 5/50\n",
            "16/16 [==============================] - 0s 6ms/step - loss: 0.6720 - accuracy: 0.5237\n",
            "Epoch 6/50\n",
            "16/16 [==============================] - 0s 6ms/step - loss: 0.6824 - accuracy: 0.5626\n",
            "Epoch 7/50\n",
            "16/16 [==============================] - 0s 6ms/step - loss: 0.6761 - accuracy: 0.4972\n",
            "Epoch 8/50\n",
            "16/16 [==============================] - 0s 6ms/step - loss: 0.6576 - accuracy: 0.6214\n",
            "Epoch 9/50\n",
            "16/16 [==============================] - 0s 6ms/step - loss: 0.6495 - accuracy: 0.5714\n",
            "Epoch 10/50\n",
            "16/16 [==============================] - 0s 6ms/step - loss: 0.6505 - accuracy: 0.5575\n",
            "Epoch 11/50\n",
            "16/16 [==============================] - 0s 6ms/step - loss: 0.6593 - accuracy: 0.6645\n",
            "Epoch 12/50\n",
            "16/16 [==============================] - 0s 6ms/step - loss: 0.6614 - accuracy: 0.5604\n",
            "Epoch 13/50\n",
            "16/16 [==============================] - 0s 6ms/step - loss: 0.6628 - accuracy: 0.5665\n",
            "Epoch 14/50\n",
            "16/16 [==============================] - 0s 6ms/step - loss: 0.6618 - accuracy: 0.5446\n",
            "Epoch 15/50\n",
            "16/16 [==============================] - 0s 6ms/step - loss: 0.6677 - accuracy: 0.5126\n",
            "Epoch 16/50\n",
            "16/16 [==============================] - 0s 6ms/step - loss: 0.6422 - accuracy: 0.5974\n",
            "Epoch 17/50\n",
            "16/16 [==============================] - 0s 6ms/step - loss: 0.6493 - accuracy: 0.6076\n",
            "Epoch 18/50\n",
            "16/16 [==============================] - 0s 6ms/step - loss: 0.6353 - accuracy: 0.6183\n",
            "Epoch 19/50\n",
            "16/16 [==============================] - 0s 6ms/step - loss: 0.6112 - accuracy: 0.6355\n",
            "Epoch 20/50\n",
            "16/16 [==============================] - 0s 6ms/step - loss: 0.6240 - accuracy: 0.6114\n",
            "Epoch 21/50\n",
            "16/16 [==============================] - 0s 6ms/step - loss: 0.6181 - accuracy: 0.6310\n",
            "Epoch 22/50\n",
            "16/16 [==============================] - 0s 6ms/step - loss: 0.6092 - accuracy: 0.6388\n",
            "Epoch 23/50\n",
            "16/16 [==============================] - 0s 6ms/step - loss: 0.5766 - accuracy: 0.7065\n",
            "Epoch 24/50\n",
            "16/16 [==============================] - 0s 6ms/step - loss: 0.6180 - accuracy: 0.6351\n",
            "Epoch 25/50\n",
            "16/16 [==============================] - 0s 6ms/step - loss: 0.6073 - accuracy: 0.6961\n",
            "Epoch 26/50\n",
            "16/16 [==============================] - 0s 6ms/step - loss: 0.5502 - accuracy: 0.7018\n",
            "Epoch 27/50\n",
            "16/16 [==============================] - 0s 6ms/step - loss: 0.6036 - accuracy: 0.6542\n",
            "Epoch 28/50\n",
            "16/16 [==============================] - 0s 6ms/step - loss: 0.5616 - accuracy: 0.7005\n",
            "Epoch 29/50\n",
            "16/16 [==============================] - 0s 6ms/step - loss: 0.5898 - accuracy: 0.6673\n",
            "Epoch 30/50\n",
            "16/16 [==============================] - 0s 6ms/step - loss: 0.5892 - accuracy: 0.6603\n",
            "Epoch 31/50\n",
            "16/16 [==============================] - 0s 6ms/step - loss: 0.5926 - accuracy: 0.6738\n",
            "Epoch 32/50\n",
            "16/16 [==============================] - 0s 5ms/step - loss: 0.6096 - accuracy: 0.6656\n",
            "Epoch 33/50\n",
            "16/16 [==============================] - 0s 6ms/step - loss: 0.5749 - accuracy: 0.6882\n",
            "Epoch 34/50\n",
            "16/16 [==============================] - 0s 6ms/step - loss: 0.5585 - accuracy: 0.7087\n",
            "Epoch 35/50\n",
            "16/16 [==============================] - 0s 6ms/step - loss: 0.5479 - accuracy: 0.7084\n",
            "Epoch 36/50\n",
            "16/16 [==============================] - 0s 6ms/step - loss: 0.5381 - accuracy: 0.7148\n",
            "Epoch 37/50\n",
            "16/16 [==============================] - 0s 6ms/step - loss: 0.5654 - accuracy: 0.7029\n",
            "Epoch 38/50\n",
            "16/16 [==============================] - 0s 6ms/step - loss: 0.5736 - accuracy: 0.6854\n",
            "Epoch 39/50\n",
            "16/16 [==============================] - 0s 6ms/step - loss: 0.5221 - accuracy: 0.7497\n",
            "Epoch 40/50\n",
            "16/16 [==============================] - 0s 5ms/step - loss: 0.5682 - accuracy: 0.7502\n",
            "Epoch 41/50\n",
            "16/16 [==============================] - 0s 6ms/step - loss: 0.5338 - accuracy: 0.7197\n",
            "Epoch 42/50\n",
            "16/16 [==============================] - 0s 6ms/step - loss: 0.4915 - accuracy: 0.7415\n",
            "Epoch 43/50\n",
            "16/16 [==============================] - 0s 6ms/step - loss: 0.5167 - accuracy: 0.7199\n",
            "Epoch 44/50\n",
            "16/16 [==============================] - 0s 6ms/step - loss: 0.6061 - accuracy: 0.6680\n",
            "Epoch 45/50\n",
            "16/16 [==============================] - 0s 6ms/step - loss: 0.6582 - accuracy: 0.7239\n",
            "Epoch 46/50\n",
            "16/16 [==============================] - 0s 6ms/step - loss: 0.6398 - accuracy: 0.5744\n",
            "Epoch 47/50\n",
            "16/16 [==============================] - 0s 6ms/step - loss: 0.6357 - accuracy: 0.6327\n",
            "Epoch 48/50\n",
            "16/16 [==============================] - 0s 6ms/step - loss: 0.6455 - accuracy: 0.7167\n",
            "Epoch 49/50\n",
            "16/16 [==============================] - 0s 6ms/step - loss: 0.6272 - accuracy: 0.6178\n",
            "Epoch 50/50\n",
            "16/16 [==============================] - 0s 6ms/step - loss: 0.5909 - accuracy: 0.6862\n",
            "6/6 [==============================] - 0s 3ms/step - loss: 0.6498 - accuracy: 0.6059\n",
            "Epoch 1/50\n",
            "16/16 [==============================] - 1s 6ms/step - loss: 0.6912 - accuracy: 0.5095\n",
            "Epoch 2/50\n",
            "16/16 [==============================] - 0s 6ms/step - loss: 0.6881 - accuracy: 0.4946\n",
            "Epoch 3/50\n",
            "16/16 [==============================] - 0s 6ms/step - loss: 0.6804 - accuracy: 0.5191\n",
            "Epoch 4/50\n",
            "16/16 [==============================] - 0s 6ms/step - loss: 0.6890 - accuracy: 0.5057\n",
            "Epoch 5/50\n",
            "16/16 [==============================] - 0s 6ms/step - loss: 0.6833 - accuracy: 0.5102\n",
            "Epoch 6/50\n",
            "16/16 [==============================] - 0s 6ms/step - loss: 0.6853 - accuracy: 0.4869\n",
            "Epoch 7/50\n",
            "16/16 [==============================] - 0s 6ms/step - loss: 0.6777 - accuracy: 0.5160\n",
            "Epoch 8/50\n",
            "16/16 [==============================] - 0s 6ms/step - loss: 0.6774 - accuracy: 0.5100\n",
            "Epoch 9/50\n",
            "16/16 [==============================] - 0s 6ms/step - loss: 0.6621 - accuracy: 0.5664\n",
            "Epoch 10/50\n",
            "16/16 [==============================] - 0s 6ms/step - loss: 0.6580 - accuracy: 0.5764\n",
            "Epoch 11/50\n",
            "16/16 [==============================] - 0s 6ms/step - loss: 0.6649 - accuracy: 0.6220\n",
            "Epoch 12/50\n",
            "16/16 [==============================] - 0s 6ms/step - loss: 0.7091 - accuracy: 0.4919\n",
            "Epoch 13/50\n",
            "16/16 [==============================] - 0s 6ms/step - loss: 0.6776 - accuracy: 0.5688\n",
            "Epoch 14/50\n",
            "16/16 [==============================] - 0s 6ms/step - loss: 0.6603 - accuracy: 0.5529\n",
            "Epoch 15/50\n",
            "16/16 [==============================] - 0s 6ms/step - loss: 0.6628 - accuracy: 0.5830\n",
            "Epoch 16/50\n",
            "16/16 [==============================] - 0s 7ms/step - loss: 0.6850 - accuracy: 0.5470\n",
            "Epoch 17/50\n",
            "16/16 [==============================] - 0s 6ms/step - loss: 0.6925 - accuracy: 0.4983\n",
            "Epoch 18/50\n",
            "16/16 [==============================] - 0s 6ms/step - loss: 0.6809 - accuracy: 0.5142\n",
            "Epoch 19/50\n",
            "16/16 [==============================] - 0s 5ms/step - loss: 0.6708 - accuracy: 0.5121\n",
            "Epoch 20/50\n",
            "16/16 [==============================] - 0s 5ms/step - loss: 0.6619 - accuracy: 0.5883\n",
            "Epoch 21/50\n",
            "16/16 [==============================] - 0s 6ms/step - loss: 0.6589 - accuracy: 0.5708\n",
            "Epoch 22/50\n",
            "16/16 [==============================] - 0s 6ms/step - loss: 0.6558 - accuracy: 0.5630\n",
            "Epoch 23/50\n",
            "16/16 [==============================] - 0s 6ms/step - loss: 0.6415 - accuracy: 0.6051\n",
            "Epoch 24/50\n",
            "16/16 [==============================] - 0s 6ms/step - loss: 0.6991 - accuracy: 0.4664\n",
            "Epoch 25/50\n",
            "16/16 [==============================] - 0s 6ms/step - loss: 0.6912 - accuracy: 0.5136\n",
            "Epoch 26/50\n",
            "16/16 [==============================] - 0s 6ms/step - loss: 0.6779 - accuracy: 0.5239\n",
            "Epoch 27/50\n",
            "16/16 [==============================] - 0s 6ms/step - loss: 0.6830 - accuracy: 0.4966\n",
            "Epoch 28/50\n",
            "16/16 [==============================] - 0s 6ms/step - loss: 0.6767 - accuracy: 0.5237\n",
            "Epoch 29/50\n",
            "16/16 [==============================] - 0s 5ms/step - loss: 0.6713 - accuracy: 0.5534\n",
            "Epoch 30/50\n",
            "16/16 [==============================] - 0s 5ms/step - loss: 0.6702 - accuracy: 0.5402\n",
            "Epoch 31/50\n",
            "16/16 [==============================] - 0s 6ms/step - loss: 0.6722 - accuracy: 0.5552\n",
            "Epoch 32/50\n",
            "16/16 [==============================] - 0s 7ms/step - loss: 0.6691 - accuracy: 0.5418\n",
            "Epoch 33/50\n",
            "16/16 [==============================] - 0s 6ms/step - loss: 0.6787 - accuracy: 0.5277\n",
            "Epoch 34/50\n",
            "16/16 [==============================] - 0s 6ms/step - loss: 0.6691 - accuracy: 0.5290\n",
            "Epoch 35/50\n",
            "16/16 [==============================] - 0s 6ms/step - loss: 0.6746 - accuracy: 0.5584\n",
            "Epoch 36/50\n",
            "16/16 [==============================] - 0s 6ms/step - loss: 0.6688 - accuracy: 0.5166\n",
            "Epoch 37/50\n",
            "16/16 [==============================] - 0s 6ms/step - loss: 0.6687 - accuracy: 0.5290\n",
            "Epoch 38/50\n",
            "16/16 [==============================] - 0s 6ms/step - loss: 0.6740 - accuracy: 0.5190\n",
            "Epoch 39/50\n",
            "16/16 [==============================] - 0s 6ms/step - loss: 0.6627 - accuracy: 0.5359\n",
            "Epoch 40/50\n",
            "16/16 [==============================] - 0s 7ms/step - loss: 0.6724 - accuracy: 0.5754\n",
            "Epoch 41/50\n",
            "16/16 [==============================] - 0s 6ms/step - loss: 0.6563 - accuracy: 0.5355\n",
            "Epoch 42/50\n",
            "16/16 [==============================] - 0s 6ms/step - loss: 0.6614 - accuracy: 0.5515\n",
            "Epoch 43/50\n",
            "16/16 [==============================] - 0s 6ms/step - loss: 0.6632 - accuracy: 0.5655\n",
            "Epoch 44/50\n",
            "16/16 [==============================] - 0s 6ms/step - loss: 0.6673 - accuracy: 0.5738\n",
            "Epoch 45/50\n",
            "16/16 [==============================] - 0s 6ms/step - loss: 0.6628 - accuracy: 0.5410\n",
            "Epoch 46/50\n",
            "16/16 [==============================] - 0s 7ms/step - loss: 0.6559 - accuracy: 0.6086\n",
            "Epoch 47/50\n",
            "16/16 [==============================] - 0s 6ms/step - loss: 0.6464 - accuracy: 0.5532\n",
            "Epoch 48/50\n",
            "16/16 [==============================] - 0s 6ms/step - loss: 0.6673 - accuracy: 0.6756\n",
            "Epoch 49/50\n",
            "16/16 [==============================] - 0s 6ms/step - loss: 0.6454 - accuracy: 0.6027\n",
            "Epoch 50/50\n",
            "16/16 [==============================] - 0s 6ms/step - loss: 0.6554 - accuracy: 0.6670\n",
            "6/6 [==============================] - 0s 3ms/step - loss: 0.6384 - accuracy: 0.5824\n",
            "Epoch 1/50\n",
            "16/16 [==============================] - 1s 6ms/step - loss: 0.6934 - accuracy: 0.5127\n",
            "Epoch 2/50\n",
            "16/16 [==============================] - 0s 6ms/step - loss: 0.6910 - accuracy: 0.4809\n",
            "Epoch 3/50\n",
            "16/16 [==============================] - 0s 6ms/step - loss: 0.6826 - accuracy: 0.5091\n",
            "Epoch 4/50\n",
            "16/16 [==============================] - 0s 6ms/step - loss: 0.6886 - accuracy: 0.4643\n",
            "Epoch 5/50\n",
            "16/16 [==============================] - 0s 6ms/step - loss: 0.6883 - accuracy: 0.4579\n",
            "Epoch 6/50\n",
            "16/16 [==============================] - 0s 6ms/step - loss: 0.6885 - accuracy: 0.4872\n",
            "Epoch 7/50\n",
            "16/16 [==============================] - 0s 6ms/step - loss: 0.6772 - accuracy: 0.4931\n",
            "Epoch 8/50\n",
            "16/16 [==============================] - 0s 6ms/step - loss: 0.6741 - accuracy: 0.5767\n",
            "Epoch 9/50\n",
            "16/16 [==============================] - 0s 6ms/step - loss: 0.6495 - accuracy: 0.5902\n",
            "Epoch 10/50\n",
            "16/16 [==============================] - 0s 6ms/step - loss: 0.6798 - accuracy: 0.4927\n",
            "Epoch 11/50\n",
            "16/16 [==============================] - 0s 6ms/step - loss: 0.6856 - accuracy: 0.4703\n",
            "Epoch 12/50\n",
            "16/16 [==============================] - 0s 6ms/step - loss: 0.6778 - accuracy: 0.4837\n",
            "Epoch 13/50\n",
            "16/16 [==============================] - 0s 7ms/step - loss: 0.6623 - accuracy: 0.5331\n",
            "Epoch 14/50\n",
            "16/16 [==============================] - 0s 6ms/step - loss: 0.6490 - accuracy: 0.5707\n",
            "Epoch 15/50\n",
            "16/16 [==============================] - 0s 6ms/step - loss: 0.6739 - accuracy: 0.7064\n",
            "Epoch 16/50\n",
            "16/16 [==============================] - 0s 6ms/step - loss: 0.6546 - accuracy: 0.6124\n",
            "Epoch 17/50\n",
            "16/16 [==============================] - 0s 6ms/step - loss: 0.6728 - accuracy: 0.5939\n",
            "Epoch 18/50\n",
            "16/16 [==============================] - 0s 6ms/step - loss: 0.6439 - accuracy: 0.6817\n",
            "Epoch 19/50\n",
            "16/16 [==============================] - 0s 6ms/step - loss: 0.6185 - accuracy: 0.6744\n",
            "Epoch 20/50\n",
            "16/16 [==============================] - 0s 6ms/step - loss: 0.6351 - accuracy: 0.6525\n",
            "Epoch 21/50\n",
            "16/16 [==============================] - 0s 6ms/step - loss: 0.6336 - accuracy: 0.5914\n",
            "Epoch 22/50\n",
            "16/16 [==============================] - 0s 6ms/step - loss: 0.6041 - accuracy: 0.6892\n",
            "Epoch 23/50\n",
            "16/16 [==============================] - 0s 6ms/step - loss: 0.6204 - accuracy: 0.6541\n",
            "Epoch 24/50\n",
            "16/16 [==============================] - 0s 6ms/step - loss: 0.6290 - accuracy: 0.6389\n",
            "Epoch 25/50\n",
            "16/16 [==============================] - 0s 6ms/step - loss: 0.6740 - accuracy: 0.5668\n",
            "Epoch 26/50\n",
            "16/16 [==============================] - 0s 6ms/step - loss: 0.6366 - accuracy: 0.6769\n",
            "Epoch 27/50\n",
            "16/16 [==============================] - 0s 6ms/step - loss: 0.6123 - accuracy: 0.6761\n",
            "Epoch 28/50\n",
            "16/16 [==============================] - 0s 7ms/step - loss: 0.6235 - accuracy: 0.7057\n",
            "Epoch 29/50\n",
            "16/16 [==============================] - 0s 6ms/step - loss: 0.6098 - accuracy: 0.6931\n",
            "Epoch 30/50\n",
            "16/16 [==============================] - 0s 6ms/step - loss: 0.5939 - accuracy: 0.6629\n",
            "Epoch 31/50\n",
            "16/16 [==============================] - 0s 6ms/step - loss: 0.6080 - accuracy: 0.6437\n",
            "Epoch 32/50\n",
            "16/16 [==============================] - 0s 6ms/step - loss: 0.6009 - accuracy: 0.6643\n",
            "Epoch 33/50\n",
            "16/16 [==============================] - 0s 7ms/step - loss: 0.6107 - accuracy: 0.6489\n",
            "Epoch 34/50\n",
            "16/16 [==============================] - 0s 6ms/step - loss: 0.5729 - accuracy: 0.6806\n",
            "Epoch 35/50\n",
            "16/16 [==============================] - 0s 6ms/step - loss: 0.5869 - accuracy: 0.7181\n",
            "Epoch 36/50\n",
            "16/16 [==============================] - 0s 6ms/step - loss: 0.5953 - accuracy: 0.6535\n",
            "Epoch 37/50\n",
            "16/16 [==============================] - 0s 6ms/step - loss: 0.5718 - accuracy: 0.6792\n",
            "Epoch 38/50\n",
            "16/16 [==============================] - 0s 6ms/step - loss: 0.5687 - accuracy: 0.7037\n",
            "Epoch 39/50\n",
            "16/16 [==============================] - 0s 6ms/step - loss: 0.5616 - accuracy: 0.6547\n",
            "Epoch 40/50\n",
            "16/16 [==============================] - 0s 6ms/step - loss: 0.5634 - accuracy: 0.6592\n",
            "Epoch 41/50\n",
            "16/16 [==============================] - 0s 6ms/step - loss: 0.6090 - accuracy: 0.6741\n",
            "Epoch 42/50\n",
            "16/16 [==============================] - 0s 6ms/step - loss: 0.5634 - accuracy: 0.7149\n",
            "Epoch 43/50\n",
            "16/16 [==============================] - 0s 6ms/step - loss: 0.5284 - accuracy: 0.7039\n",
            "Epoch 44/50\n",
            "16/16 [==============================] - 0s 6ms/step - loss: 0.5681 - accuracy: 0.7444\n",
            "Epoch 45/50\n",
            "16/16 [==============================] - 0s 6ms/step - loss: 0.5246 - accuracy: 0.7112\n",
            "Epoch 46/50\n",
            "16/16 [==============================] - 0s 6ms/step - loss: 0.5635 - accuracy: 0.6690\n",
            "Epoch 47/50\n",
            "16/16 [==============================] - 0s 6ms/step - loss: 0.5182 - accuracy: 0.7172\n",
            "Epoch 48/50\n",
            "16/16 [==============================] - 0s 6ms/step - loss: 0.5142 - accuracy: 0.7094\n",
            "Epoch 49/50\n",
            "16/16 [==============================] - 0s 6ms/step - loss: 0.5463 - accuracy: 0.7207\n",
            "Epoch 50/50\n",
            "16/16 [==============================] - 0s 6ms/step - loss: 0.5157 - accuracy: 0.7334\n",
            "6/6 [==============================] - 0s 3ms/step - loss: 0.6247 - accuracy: 0.6412\n",
            "Epoch 1/50\n",
            "16/16 [==============================] - 1s 6ms/step - loss: 0.6901 - accuracy: 0.5063\n",
            "Epoch 2/50\n",
            "16/16 [==============================] - 0s 6ms/step - loss: 0.6813 - accuracy: 0.5108\n",
            "Epoch 3/50\n",
            "16/16 [==============================] - 0s 6ms/step - loss: 0.6876 - accuracy: 0.4703\n",
            "Epoch 4/50\n",
            "16/16 [==============================] - 0s 6ms/step - loss: 0.6821 - accuracy: 0.4960\n",
            "Epoch 5/50\n",
            "16/16 [==============================] - 0s 6ms/step - loss: 0.6599 - accuracy: 0.5393\n",
            "Epoch 6/50\n",
            "16/16 [==============================] - 0s 6ms/step - loss: 0.6830 - accuracy: 0.5607\n",
            "Epoch 7/50\n",
            "16/16 [==============================] - 0s 6ms/step - loss: 0.6656 - accuracy: 0.6080\n",
            "Epoch 8/50\n",
            "16/16 [==============================] - 0s 6ms/step - loss: 0.6497 - accuracy: 0.6663\n",
            "Epoch 9/50\n",
            "16/16 [==============================] - 0s 6ms/step - loss: 0.6374 - accuracy: 0.6553\n",
            "Epoch 10/50\n",
            "16/16 [==============================] - 0s 6ms/step - loss: 0.6338 - accuracy: 0.6586\n",
            "Epoch 11/50\n",
            "16/16 [==============================] - 0s 6ms/step - loss: 0.6679 - accuracy: 0.6652\n",
            "Epoch 12/50\n",
            "16/16 [==============================] - 0s 6ms/step - loss: 0.6622 - accuracy: 0.6330\n",
            "Epoch 13/50\n",
            "16/16 [==============================] - 0s 6ms/step - loss: 0.6495 - accuracy: 0.6404\n",
            "Epoch 14/50\n",
            "16/16 [==============================] - 0s 7ms/step - loss: 0.6544 - accuracy: 0.6424\n",
            "Epoch 15/50\n",
            "16/16 [==============================] - 0s 6ms/step - loss: 0.6534 - accuracy: 0.5329\n",
            "Epoch 16/50\n",
            "16/16 [==============================] - 0s 6ms/step - loss: 0.6470 - accuracy: 0.6161\n",
            "Epoch 17/50\n",
            "16/16 [==============================] - 0s 6ms/step - loss: 0.6637 - accuracy: 0.5386\n",
            "Epoch 18/50\n",
            "16/16 [==============================] - 0s 6ms/step - loss: 0.6561 - accuracy: 0.5561\n",
            "Epoch 19/50\n",
            "16/16 [==============================] - 0s 6ms/step - loss: 0.6470 - accuracy: 0.5957\n",
            "Epoch 20/50\n",
            "16/16 [==============================] - 0s 6ms/step - loss: 0.6237 - accuracy: 0.6551\n",
            "Epoch 21/50\n",
            "16/16 [==============================] - 0s 6ms/step - loss: 0.6409 - accuracy: 0.6903\n",
            "Epoch 22/50\n",
            "16/16 [==============================] - 0s 6ms/step - loss: 0.6508 - accuracy: 0.6054\n",
            "Epoch 23/50\n",
            "16/16 [==============================] - 0s 6ms/step - loss: 0.6306 - accuracy: 0.7081\n",
            "Epoch 24/50\n",
            "16/16 [==============================] - 0s 6ms/step - loss: 0.6473 - accuracy: 0.6322\n",
            "Epoch 25/50\n",
            "16/16 [==============================] - 0s 6ms/step - loss: 0.6678 - accuracy: 0.5696\n",
            "Epoch 26/50\n",
            "16/16 [==============================] - 0s 7ms/step - loss: 0.6616 - accuracy: 0.6951\n",
            "Epoch 27/50\n",
            "16/16 [==============================] - 0s 6ms/step - loss: 0.6517 - accuracy: 0.5806\n",
            "Epoch 28/50\n",
            "16/16 [==============================] - 0s 6ms/step - loss: 0.6392 - accuracy: 0.5836\n",
            "Epoch 29/50\n",
            "16/16 [==============================] - 0s 6ms/step - loss: 0.6365 - accuracy: 0.6292\n",
            "Epoch 30/50\n",
            "16/16 [==============================] - 0s 6ms/step - loss: 0.6398 - accuracy: 0.6438\n",
            "Epoch 31/50\n",
            "16/16 [==============================] - 0s 6ms/step - loss: 0.6074 - accuracy: 0.6826\n",
            "Epoch 32/50\n",
            "16/16 [==============================] - 0s 7ms/step - loss: 0.6112 - accuracy: 0.6599\n",
            "Epoch 33/50\n",
            "16/16 [==============================] - 0s 6ms/step - loss: 0.6031 - accuracy: 0.6598\n",
            "Epoch 34/50\n",
            "16/16 [==============================] - 0s 6ms/step - loss: 0.5947 - accuracy: 0.7083\n",
            "Epoch 35/50\n",
            "16/16 [==============================] - 0s 6ms/step - loss: 0.6015 - accuracy: 0.6799\n",
            "Epoch 36/50\n",
            "16/16 [==============================] - 0s 6ms/step - loss: 0.5883 - accuracy: 0.6955\n",
            "Epoch 37/50\n",
            "16/16 [==============================] - 0s 6ms/step - loss: 0.6420 - accuracy: 0.6471\n",
            "Epoch 38/50\n",
            "16/16 [==============================] - 0s 6ms/step - loss: 0.6410 - accuracy: 0.7311\n",
            "Epoch 39/50\n",
            "16/16 [==============================] - 0s 6ms/step - loss: 0.6306 - accuracy: 0.6210\n",
            "Epoch 40/50\n",
            "16/16 [==============================] - 0s 6ms/step - loss: 0.6301 - accuracy: 0.6851\n",
            "Epoch 41/50\n",
            "16/16 [==============================] - 0s 7ms/step - loss: 0.6120 - accuracy: 0.6530\n",
            "Epoch 42/50\n",
            "16/16 [==============================] - 0s 6ms/step - loss: 0.6064 - accuracy: 0.6851\n",
            "Epoch 43/50\n",
            "16/16 [==============================] - 0s 7ms/step - loss: 0.5911 - accuracy: 0.6865\n",
            "Epoch 44/50\n",
            "16/16 [==============================] - 0s 7ms/step - loss: 0.6257 - accuracy: 0.6474\n",
            "Epoch 45/50\n",
            "16/16 [==============================] - 0s 6ms/step - loss: 0.6212 - accuracy: 0.7078\n",
            "Epoch 46/50\n",
            "16/16 [==============================] - 0s 6ms/step - loss: 0.6106 - accuracy: 0.6629\n",
            "Epoch 47/50\n",
            "16/16 [==============================] - 0s 7ms/step - loss: 0.5742 - accuracy: 0.7508\n",
            "Epoch 48/50\n",
            "16/16 [==============================] - 0s 6ms/step - loss: 0.5733 - accuracy: 0.7064\n",
            "Epoch 49/50\n",
            "16/16 [==============================] - 0s 6ms/step - loss: 0.5618 - accuracy: 0.6829\n",
            "Epoch 50/50\n",
            "16/16 [==============================] - 0s 6ms/step - loss: 0.5625 - accuracy: 0.7004\n",
            "6/6 [==============================] - 0s 4ms/step - loss: 0.6462 - accuracy: 0.6176\n",
            "Accuracy mean: 0.6117646992206573\n",
            "Accuracy variance: 0.0212091238856258\n"
          ],
          "name": "stdout"
        }
      ]
    },
    {
      "cell_type": "markdown",
      "metadata": {
        "id": "hTjP7YY7pvHv"
      },
      "source": [
        "#                                          modèle 2:   **CNN**"
      ]
    },
    {
      "cell_type": "code",
      "metadata": {
        "id": "IWZdfCXduPiI"
      },
      "source": [
        "# libraries\r\n",
        "from keras.models import Sequential \r\n",
        "from keras.layers import Conv2D, MaxPooling2D, Activation, Dropout, Flatten, Dense\r\n",
        "from keras.preprocessing.image import ImageDataGenerator, img_to_array, load_img\r\n",
        "import matplotlib.pyplot as plt\r\n",
        "from glob import glob"
      ],
      "execution_count": null,
      "outputs": []
    },
    {
      "cell_type": "code",
      "metadata": {
        "id": "tmbZqIXcusnK"
      },
      "source": [
        "train_path= \"/content/drive/MyDrive/DATASET/TRAIN\"\r\n",
        "test_path= \"/content/drive/MyDrive/DATASET/TEST\""
      ],
      "execution_count": null,
      "outputs": []
    },
    {
      "cell_type": "code",
      "metadata": {
        "id": "e1cSQznbvBxU"
      },
      "source": [
        "model = Sequential()\r\n",
        "model.add(Conv2D(64,(3,3)))\r\n",
        "model.add(Activation(\"relu\"))\r\n",
        "model.add(MaxPooling2D())\r\n",
        "\r\n",
        "model.add(Conv2D(64,(3,3)))  \r\n",
        "model.add(Activation(\"relu\"))\r\n",
        "model.add(MaxPooling2D())\r\n",
        "\r\n",
        "model.add(Conv2D(64,(3,3)))\r\n",
        "model.add(Activation(\"relu\"))\r\n",
        "model.add(MaxPooling2D())\r\n",
        "\r\n",
        "model.add(Conv2D(64,(3,3)))\r\n",
        "model.add(Activation(\"relu\"))\r\n",
        "model.add(MaxPooling2D())\r\n",
        "\r\n",
        "model.add(Flatten())\r\n",
        "model.add(Dense(1024))\r\n",
        "model.add(Activation(\"relu\"))\r\n",
        "model.add(Dropout(0.5))\r\n",
        "model.add(Dense(2)) # output\r\n",
        "model.add(Activation(\"softmax\"))\r\n",
        "\r\n",
        "model.compile(loss = \"categorical_crossentropy\",\r\n",
        "              optimizer = \"rmsprop\",\r\n",
        "              metrics = [\"accuracy\"])\r\n",
        "\r\n",
        "batch_size = 32"
      ],
      "execution_count": null,
      "outputs": []
    },
    {
      "cell_type": "code",
      "metadata": {
        "colab": {
          "base_uri": "https://localhost:8080/"
        },
        "id": "3hjQjrsivsOY",
        "outputId": "d9c89068-aeb9-47ec-aaf6-838df53b05c6"
      },
      "source": [
        "train_datagen = ImageDataGenerator(rescale= 1./255,\r\n",
        "                   shear_range = 0.3,\r\n",
        "                   horizontal_flip=True,\r\n",
        "                   zoom_range = 0.3)\r\n",
        "\r\n",
        "test_datagen = ImageDataGenerator(rescale= 1./255)\r\n",
        "\r\n",
        "train_generator = train_datagen.flow_from_directory(train_path, batch_size = batch_size,color_mode= \"rgb\", class_mode= \"categorical\")\r\n",
        "\r\n",
        "test_generator = test_datagen.flow_from_directory(\r\n",
        "        test_path, \r\n",
        "        \r\n",
        "        batch_size = batch_size,\r\n",
        "        color_mode= \"rgb\",\r\n",
        "        class_mode= \"categorical\")\r\n",
        "\r\n",
        "hist = model.fit_generator(\r\n",
        "        generator = train_generator,\r\n",
        "        steps_per_epoch = 1400 // batch_size,\r\n",
        "        epochs=10,\r\n",
        "        validation_data = test_generator,\r\n",
        "        validation_steps = 600 // batch_size)"
      ],
      "execution_count": null,
      "outputs": [
        {
          "output_type": "stream",
          "text": [
            "Found 22623 images belonging to 2 classes.\n",
            "Found 2513 images belonging to 2 classes.\n"
          ],
          "name": "stdout"
        },
        {
          "output_type": "stream",
          "text": [
            "/usr/local/lib/python3.6/dist-packages/tensorflow/python/keras/engine/training.py:1844: UserWarning: `Model.fit_generator` is deprecated and will be removed in a future version. Please use `Model.fit`, which supports generators.\n",
            "  warnings.warn('`Model.fit_generator` is deprecated and '\n"
          ],
          "name": "stderr"
        },
        {
          "output_type": "stream",
          "text": [
            "Epoch 1/10\n",
            "43/43 [==============================] - 1824s 42s/step - loss: 1.8266 - accuracy: 0.6149 - val_loss: 0.4670 - val_accuracy: 0.8351\n",
            "Epoch 2/10\n",
            "43/43 [==============================] - 1531s 36s/step - loss: 0.6021 - accuracy: 0.7317 - val_loss: 0.4392 - val_accuracy: 0.8385\n",
            "Epoch 3/10\n",
            "43/43 [==============================] - 1398s 33s/step - loss: 0.4680 - accuracy: 0.8031 - val_loss: 0.3974 - val_accuracy: 0.8663\n",
            "Epoch 4/10\n",
            "43/43 [==============================] - 1184s 28s/step - loss: 0.5509 - accuracy: 0.7705 - val_loss: 0.3538 - val_accuracy: 0.8750\n",
            "Epoch 5/10\n",
            "43/43 [==============================] - 1089s 25s/step - loss: 0.4530 - accuracy: 0.8141 - val_loss: 0.3482 - val_accuracy: 0.8594\n",
            "Epoch 6/10\n",
            "43/43 [==============================] - 1022s 24s/step - loss: 0.4940 - accuracy: 0.7969 - val_loss: 0.4439 - val_accuracy: 0.8090\n",
            "Epoch 7/10\n",
            "43/43 [==============================] - 936s 22s/step - loss: 0.4557 - accuracy: 0.8090 - val_loss: 0.4813 - val_accuracy: 0.7535\n",
            "Epoch 8/10\n",
            "43/43 [==============================] - 863s 20s/step - loss: 0.4837 - accuracy: 0.7722 - val_loss: 0.3991 - val_accuracy: 0.8368\n",
            "Epoch 9/10\n",
            "43/43 [==============================] - 783s 18s/step - loss: 0.4225 - accuracy: 0.8409 - val_loss: 0.3184 - val_accuracy: 0.8767\n",
            "Epoch 10/10\n",
            "43/43 [==============================] - 730s 17s/step - loss: 0.3919 - accuracy: 0.8321 - val_loss: 0.4404 - val_accuracy: 0.8646\n"
          ],
          "name": "stdout"
        }
      ]
    },
    {
      "cell_type": "code",
      "metadata": {
        "colab": {
          "base_uri": "https://localhost:8080/",
          "height": 374
        },
        "id": "7uyQJQxdwsMz",
        "outputId": "e9f7b526-d232-4e12-f73b-a2e4060ed139"
      },
      "source": [
        "plt.figure(figsize=[10,6])\r\n",
        "plt.plot(hist.history[\"accuracy\"], label = \"Train acc\")\r\n",
        "plt.plot(hist.history[\"val_accuracy\"], label = \"Validation acc\")\r\n",
        "plt.legend()\r\n",
        "plt.show()"
      ],
      "execution_count": null,
      "outputs": [
        {
          "output_type": "display_data",
          "data": {
            "image/png": "[encoded data removed]",
            "text/plain": [
              "<Figure size 720x432 with 1 Axes>"
            ]
          },
          "metadata": {
            "tags": [],
            "needs_background": "light"
          }
        }
      ]
    },
    {
      "cell_type": "code",
      "metadata": {
        "colab": {
          "base_uri": "https://localhost:8080/",
          "height": 374
        },
        "id": "VKrlounBfIhN",
        "outputId": "05cd1d89-5eb1-425b-bdc8-8e160cbb36c9"
      },
      "source": [
        "plt.figure(figsize=[10,6])\r\n",
        "plt.plot(hist.history[\"loss\"], label = \"Train acc\")\r\n",
        "plt.plot(hist.history[\"val_loss\"], label = \"Validation acc\")\r\n",
        "plt.legend()\r\n",
        "plt.show()"
      ],
      "execution_count": null,
      "outputs": [
        {
          "output_type": "display_data",
          "data": {
            "image/png": "[encoded data removed]",
            "text/plain": [
              "<Figure size 720x432 with 1 Axes>"
            ]
          },
          "metadata": {
            "tags": [],
            "needs_background": "light"
          }
        }
      ]
    },
    {
      "cell_type": "markdown",
      "metadata": {
        "id": "JNVOA_MhJiLM"
      },
      "source": [
        "# **Modèle N°3**"
      ]
    },
    {
      "cell_type": "code",
      "metadata": {
        "id": "7X6RT1MZIBlD"
      },
      "source": [
        "import numpy as np\r\n",
        "import tensorflow as tf \r\n",
        "import matplotlib.pyplot as plt\r\n",
        "from tensorflow import keras\r\n",
        "import tensorflow_hub as hub\r\n"
      ],
      "execution_count": null,
      "outputs": []
    },
    {
      "cell_type": "code",
      "metadata": {
        "colab": {
          "base_uri": "https://localhost:8080/"
        },
        "id": "MR608ahyKkL-",
        "outputId": "581dcb32-125d-49e7-ff60-02e36e24ab39"
      },
      "source": [
        "image_generator=tf.keras.preprocessing.image.ImageDataGenerator(rescale=1/255,validation_split=0.2)\r\n",
        "\r\n",
        "img_data_train=image_generator.flow_from_directory('/content/drive/MyDrive/DATASET/TRAIN',\r\n",
        "                                             target_size=(224,224),subset='training'\r\n",
        "                                             )\r\n",
        "\r\n",
        "img_data_val=image_generator.flow_from_directory('/content/drive/MyDrive/DATASET/TEST',\r\n",
        "                                             target_size=(224,224),#Batch size can be changed ,by default its 32\r\n",
        "                                             subset='validation') "
      ],
      "execution_count": null,
      "outputs": [
        {
          "output_type": "stream",
          "text": [
            "Found 18100 images belonging to 2 classes.\n",
            "Found 502 images belonging to 2 classes.\n"
          ],
          "name": "stdout"
        }
      ]
    },
    {
      "cell_type": "code",
      "metadata": {
        "colab": {
          "base_uri": "https://localhost:8080/"
        },
        "id": "FXoii2LYKkPV",
        "outputId": "e1498ffc-d283-4711-937f-a56cffd432b9"
      },
      "source": [
        "img_data_train.class_indices"
      ],
      "execution_count": null,
      "outputs": [
        {
          "output_type": "execute_result",
          "data": {
            "text/plain": [
              "{'O': 0, 'R': 1}"
            ]
          },
          "metadata": {
            "tags": []
          },
          "execution_count": 26
        }
      ]
    },
    {
      "cell_type": "code",
      "metadata": {
        "id": "hYGfBsrHXyYR"
      },
      "source": [
        "feature_extract_url=\"https://tfhub.dev/tensorflow/resnet_50/feature_vector/1\"\r\n",
        "\r\n",
        "    \r\n",
        "feature_extraction_layer=hub.KerasLayer(str(feature_extract_url),input_shape=(224,224,3))\r\n",
        "\r\n",
        "feature_extraction_layer.trainable=False"
      ],
      "execution_count": null,
      "outputs": []
    },
    {
      "cell_type": "code",
      "metadata": {
        "id": "CS9U2VHlXyet"
      },
      "source": [
        "model=tf.keras.Sequential([\r\n",
        "feature_extraction_layer,\r\n",
        "keras.layers.Dropout(0.5),\r\n",
        "\r\n",
        "tf.keras.layers.Dense(50,activation='relu'),\r\n",
        "keras.layers.Dropout(0.3),\r\n",
        "    \r\n",
        "tf.keras.layers.Dense(img_data_train.num_classes,activation='sigmoid')\r\n",
        "])\r\n",
        "\r\n",
        "model.compile(optimizer='adam',loss='categorical_crossentropy',metrics=['accuracy'])"
      ],
      "execution_count": null,
      "outputs": []
    },
    {
      "cell_type": "code",
      "metadata": {
        "colab": {
          "base_uri": "https://localhost:8080/"
        },
        "id": "v7Zuzm_MYZIe",
        "outputId": "2775a4b4-4b63-4cc4-fd55-9f80bf3116f1"
      },
      "source": [
        "steps=np.ceil(img_data_train.samples/img_data_train.batch_size)\r\n",
        "\r\n",
        "history=model.fit(img_data_train,epochs=5,validation_data=img_data_val,steps_per_epoch=steps)"
      ],
      "execution_count": null,
      "outputs": [
        {
          "output_type": "stream",
          "text": [
            "Epoch 1/5\n",
            "566/566 [==============================] - 6366s 11s/step - loss: 0.3109 - accuracy: 0.8842 - val_loss: 0.1198 - val_accuracy: 0.9701\n",
            "Epoch 2/5\n",
            "566/566 [==============================] - 2976s 5s/step - loss: 0.1763 - accuracy: 0.9370 - val_loss: 0.1259 - val_accuracy: 0.9562\n",
            "Epoch 3/5\n",
            "566/566 [==============================] - 2923s 5s/step - loss: 0.1483 - accuracy: 0.9454 - val_loss: 0.1517 - val_accuracy: 0.9502\n",
            "Epoch 4/5\n",
            "566/566 [==============================] - 2886s 5s/step - loss: 0.1386 - accuracy: 0.9481 - val_loss: 0.1668 - val_accuracy: 0.9442\n",
            "Epoch 5/5\n",
            "566/566 [==============================] - 2881s 5s/step - loss: 0.1271 - accuracy: 0.9524 - val_loss: 0.1612 - val_accuracy: 0.9382\n"
          ],
          "name": "stdout"
        }
      ]
    },
    {
      "cell_type": "code",
      "metadata": {
        "id": "5L47wZFOYZOL",
        "colab": {
          "base_uri": "https://localhost:8080/",
          "height": 373
        },
        "outputId": "f36bb596-48c5-4f73-d9e7-e9d25beb0d7c"
      },
      "source": [
        "plt.figure(figsize=[10,10])\r\n",
        "plt.plot(history.history[\"accuracy\"], label = \"Train acc\")\r\n",
        "plt.plot(history.history[\"val_accuracy\"], label = \"Validation acc\")\r\n",
        "plt.legend()\r\n",
        "plt.show()"
      ],
      "execution_count": null,
      "outputs": [
        {
          "output_type": "display_data",
          "data": {
            "image/png": "[encoded data removed]",
            "text/plain": [
              "<Figure size 720x432 with 1 Axes>"
            ]
          },
          "metadata": {
            "tags": [],
            "needs_background": "light"
          }
        }
      ]
    },
    {
      "cell_type": "code",
      "metadata": {
        "colab": {
          "base_uri": "https://localhost:8080/",
          "height": 373
        },
        "id": "_NRkZKMF2XmD",
        "outputId": "fd8a5ec6-af94-4769-c49f-68a870834239"
      },
      "source": [
        "plt.figure(figsize=[10,6])\r\n",
        "plt.plot(history.history[\"loss\"], label = \"Train acc\")\r\n",
        "plt.plot(history.history[\"val_loss\"], label = \"Validation acc\")\r\n",
        "plt.legend()\r\n",
        "plt.show()"
      ],
      "execution_count": null,
      "outputs": [
        {
          "output_type": "display_data",
          "data": {
            "image/png": "[encoded data removed]",
            "text/plain": [
              "<Figure size 720x432 with 1 Axes>"
            ]
          },
          "metadata": {
            "tags": [],
            "needs_background": "light"
          }
        }
      ]
    },
    {
      "cell_type": "code",
      "metadata": {
        "id": "CR0N0i5vkcAq"
      },
      "source": [
        ""
      ],
      "execution_count": null,
      "outputs": []
    },
    {
      "cell_type": "markdown",
      "metadata": {
        "id": "UgPqh2-S-Ku6"
      },
      "source": [
        "# **Modèle 4: VGG16**"
      ]
    },
    {
      "cell_type": "code",
      "metadata": {
        "id": "owyzoMZLYZTm"
      },
      "source": [
        "import pandas as pd\r\n",
        "import numpy as np\r\n",
        "import matplotlib.pyplot as plt \r\n",
        "import skimage.io\r\n",
        "import tensorflow \r\n",
        "import tqdm\r\n",
        "import glob\r\n",
        "\r\n",
        "from tqdm import tqdm \r\n",
        "\r\n",
        "from skimage.io import imread, imshow\r\n",
        "from skimage.transform import resize\r\n",
        "\r\n",
        "from tensorflow.keras.preprocessing.image import ImageDataGenerator\r\n",
        "from tensorflow.keras.applications.vgg16 import VGG16\r\n",
        "from tensorflow.keras.models import Sequential\r\n",
        "from tensorflow.keras.layers import InputLayer, Dense, Flatten, BatchNormalization, Dropout, Activation\r\n",
        "from tensorflow.keras.callbacks import EarlyStopping, ModelCheckpoint\r\n",
        "from tensorflow.keras.preprocessing.image import load_img, img_to_array\r\n",
        "\r\n",
        "%matplotlib inline"
      ],
      "execution_count": null,
      "outputs": []
    },
    {
      "cell_type": "code",
      "metadata": {
        "id": "V7t_1s00YZak"
      },
      "source": [
        "train_o = glob.glob('/content/drive/MyDrive/DATASET/TRAIN/O/*.jpg')\r\n",
        "a = len(train_o)"
      ],
      "execution_count": null,
      "outputs": []
    },
    {
      "cell_type": "code",
      "metadata": {
        "id": "mA0fqlG8YZgg"
      },
      "source": [
        "train_r = glob.glob('/content/drive/MyDrive/DATASET/TRAIN/R/*.jpg')\r\n",
        "b = len(train_r)"
      ],
      "execution_count": null,
      "outputs": []
    },
    {
      "cell_type": "code",
      "metadata": {
        "id": "CoFL27R0YZlx",
        "colab": {
          "base_uri": "https://localhost:8080/"
        },
        "outputId": "04a71336-6e6b-4ba3-c811-c0686704f59c"
      },
      "source": [
        "# Total training images \r\n",
        "\r\n",
        "print(\"Nos of training samples: {}\".format(a+b))"
      ],
      "execution_count": null,
      "outputs": [
        {
          "output_type": "stream",
          "text": [
            "Nos of training samples: 22623\n"
          ],
          "name": "stdout"
        }
      ]
    },
    {
      "cell_type": "code",
      "metadata": {
        "id": "81IQPLj7zYZx"
      },
      "source": [
        "train_datagen = ImageDataGenerator(rescale = 1.0 / 255.0,\r\n",
        "                                   zoom_range = 0.4,\r\n",
        "                                   rotation_range = 10,\r\n",
        "                                   horizontal_flip = True,\r\n",
        "                                   vertical_flip = True,\r\n",
        "                                   validation_split = 0.2)\r\n",
        "\r\n",
        "valid_datagen = ImageDataGenerator(rescale = 1.0 / 255.0,\r\n",
        "                                   validation_split = 0.2)\r\n",
        "\r\n",
        "test_datagen  = ImageDataGenerator(rescale = 1.0 / 255.0)"
      ],
      "execution_count": null,
      "outputs": []
    },
    {
      "cell_type": "code",
      "metadata": {
        "colab": {
          "base_uri": "https://localhost:8080/"
        },
        "id": "5Ah4BPUEzYjE",
        "outputId": "a854618d-acaf-4ff5-d8d3-2afc465dbcb2"
      },
      "source": [
        "train_dataset  = train_datagen.flow_from_directory(directory = '/content/drive/MyDrive/DATASET/TRAIN',\r\n",
        "                                                   target_size = (224,224),\r\n",
        "                                                   class_mode = 'binary',\r\n",
        "                                                   batch_size = 128, \r\n",
        "                                                   subset = 'training')"
      ],
      "execution_count": null,
      "outputs": [
        {
          "output_type": "stream",
          "text": [
            "Found 18100 images belonging to 2 classes.\n"
          ],
          "name": "stdout"
        }
      ]
    },
    {
      "cell_type": "code",
      "metadata": {
        "id": "9dRrrlbd_DnX",
        "colab": {
          "base_uri": "https://localhost:8080/"
        },
        "outputId": "30105878-016d-4602-8746-1bf0cde7059f"
      },
      "source": [
        "# Class Indices \n",
        "\n",
        "train_dataset.class_indices"
      ],
      "execution_count": null,
      "outputs": [
        {
          "output_type": "execute_result",
          "data": {
            "text/plain": [
              "{'O': 0, 'R': 1}"
            ]
          },
          "metadata": {
            "tags": []
          },
          "execution_count": 8
        }
      ]
    },
    {
      "cell_type": "code",
      "metadata": {
        "colab": {
          "base_uri": "https://localhost:8080/"
        },
        "id": "QlE5c_XKegj_",
        "outputId": "899364c6-0f58-47ee-e671-0a9c680ff068"
      },
      "source": [
        "valid_dataset = valid_datagen.flow_from_directory(directory = '/content/drive/MyDrive/DATASET/TRAIN',\r\n",
        "                                                  target_size = (224,224),\r\n",
        "                                                  class_mode = 'binary',\r\n",
        "                                                  batch_size = 128, \r\n",
        "                                                  subset = 'validation')"
      ],
      "execution_count": null,
      "outputs": [
        {
          "output_type": "stream",
          "text": [
            "Found 4523 images belonging to 2 classes.\n"
          ],
          "name": "stdout"
        }
      ]
    },
    {
      "cell_type": "code",
      "metadata": {
        "id": "XnElG75xzYpj",
        "colab": {
          "base_uri": "https://localhost:8080/"
        },
        "outputId": "0dc1cd6b-7178-4890-99f9-2fd3bf72615d"
      },
      "source": [
        "# Defining Model\r\n",
        "\r\n",
        "base_model = VGG16(input_shape=(224,224,3), \r\n",
        "                   include_top=False,\r\n",
        "                   weights=\"imagenet\")"
      ],
      "execution_count": null,
      "outputs": [
        {
          "output_type": "stream",
          "text": [
            "Downloading data from https://storage.googleapis.com/tensorflow/keras-applications/vgg16/vgg16_weights_tf_dim_ordering_tf_kernels_notop.h5\n",
            "58892288/58889256 [==============================] - 1s 0us/step\n"
          ],
          "name": "stdout"
        }
      ]
    },
    {
      "cell_type": "code",
      "metadata": {
        "id": "tneNDqkVzYsm"
      },
      "source": [
        "# Freezing Layers \r\n",
        "\r\n",
        "for layer in base_model.layers:\r\n",
        "    layer.trainable=False"
      ],
      "execution_count": null,
      "outputs": []
    },
    {
      "cell_type": "code",
      "metadata": {
        "id": "jqCYKki10hDT",
        "colab": {
          "base_uri": "https://localhost:8080/"
        },
        "outputId": "f8ebb449-d6c5-4f26-a3f0-b371a271e77a"
      },
      "source": [
        "# Summary\r\n",
        "\r\n",
        "base_model.summary()"
      ],
      "execution_count": null,
      "outputs": [
        {
          "output_type": "stream",
          "text": [
            "Model: \"vgg16\"\n",
            "_________________________________________________________________\n",
            "Layer (type)                 Output Shape              Param #   \n",
            "=================================================================\n",
            "input_1 (InputLayer)         [(None, 224, 224, 3)]     0         \n",
            "_________________________________________________________________\n",
            "block1_conv1 (Conv2D)        (None, 224, 224, 64)      1792      \n",
            "_________________________________________________________________\n",
            "block1_conv2 (Conv2D)        (None, 224, 224, 64)      36928     \n",
            "_________________________________________________________________\n",
            "block1_pool (MaxPooling2D)   (None, 112, 112, 64)      0         \n",
            "_________________________________________________________________\n",
            "block2_conv1 (Conv2D)        (None, 112, 112, 128)     73856     \n",
            "_________________________________________________________________\n",
            "block2_conv2 (Conv2D)        (None, 112, 112, 128)     147584    \n",
            "_________________________________________________________________\n",
            "block2_pool (MaxPooling2D)   (None, 56, 56, 128)       0         \n",
            "_________________________________________________________________\n",
            "block3_conv1 (Conv2D)        (None, 56, 56, 256)       295168    \n",
            "_________________________________________________________________\n",
            "block3_conv2 (Conv2D)        (None, 56, 56, 256)       590080    \n",
            "_________________________________________________________________\n",
            "block3_conv3 (Conv2D)        (None, 56, 56, 256)       590080    \n",
            "_________________________________________________________________\n",
            "block3_pool (MaxPooling2D)   (None, 28, 28, 256)       0         \n",
            "_________________________________________________________________\n",
            "block4_conv1 (Conv2D)        (None, 28, 28, 512)       1180160   \n",
            "_________________________________________________________________\n",
            "block4_conv2 (Conv2D)        (None, 28, 28, 512)       2359808   \n",
            "_________________________________________________________________\n",
            "block4_conv3 (Conv2D)        (None, 28, 28, 512)       2359808   \n",
            "_________________________________________________________________\n",
            "block4_pool (MaxPooling2D)   (None, 14, 14, 512)       0         \n",
            "_________________________________________________________________\n",
            "block5_conv1 (Conv2D)        (None, 14, 14, 512)       2359808   \n",
            "_________________________________________________________________\n",
            "block5_conv2 (Conv2D)        (None, 14, 14, 512)       2359808   \n",
            "_________________________________________________________________\n",
            "block5_conv3 (Conv2D)        (None, 14, 14, 512)       2359808   \n",
            "_________________________________________________________________\n",
            "block5_pool (MaxPooling2D)   (None, 7, 7, 512)         0         \n",
            "=================================================================\n",
            "Total params: 14,714,688\n",
            "Trainable params: 0\n",
            "Non-trainable params: 14,714,688\n",
            "_________________________________________________________________\n"
          ],
          "name": "stdout"
        }
      ]
    },
    {
      "cell_type": "code",
      "metadata": {
        "id": "-GEvVHje1abj"
      },
      "source": [
        "# Defining Layers\r\n",
        "\r\n",
        "model=Sequential()\r\n",
        "model.add(base_model)\r\n",
        "model.add(Dropout(0.2))\r\n",
        "model.add(Flatten())\r\n",
        "model.add(BatchNormalization())\r\n",
        "model.add(Dense(1024,kernel_initializer='he_uniform'))\r\n",
        "model.add(BatchNormalization())\r\n",
        "model.add(Activation('relu'))\r\n",
        "model.add(Dropout(0.2))\r\n",
        "model.add(Dense(1024,kernel_initializer='he_uniform'))\r\n",
        "model.add(BatchNormalization())\r\n",
        "model.add(Activation('relu'))\r\n",
        "model.add(Dropout(0.2))\r\n",
        "model.add(Dense(1,activation='sigmoid'))"
      ],
      "execution_count": null,
      "outputs": []
    },
    {
      "cell_type": "code",
      "metadata": {
        "colab": {
          "base_uri": "https://localhost:8080/"
        },
        "id": "4-PJoC_J0hIH",
        "outputId": "8fe48c25-ac5c-4df2-9ecf-6cc0fe62335d"
      },
      "source": [
        "# Summary\r\n",
        "\r\n",
        "model.summary()"
      ],
      "execution_count": null,
      "outputs": [
        {
          "output_type": "stream",
          "text": [
            "Model: \"sequential\"\n",
            "_________________________________________________________________\n",
            "Layer (type)                 Output Shape              Param #   \n",
            "=================================================================\n",
            "vgg16 (Functional)           (None, 7, 7, 512)         14714688  \n",
            "_________________________________________________________________\n",
            "dropout (Dropout)            (None, 7, 7, 512)         0         \n",
            "_________________________________________________________________\n",
            "flatten (Flatten)            (None, 25088)             0         \n",
            "_________________________________________________________________\n",
            "batch_normalization (BatchNo (None, 25088)             100352    \n",
            "_________________________________________________________________\n",
            "dense (Dense)                (None, 1024)              25691136  \n",
            "_________________________________________________________________\n",
            "batch_normalization_1 (Batch (None, 1024)              4096      \n",
            "_________________________________________________________________\n",
            "activation (Activation)      (None, 1024)              0         \n",
            "_________________________________________________________________\n",
            "dropout_1 (Dropout)          (None, 1024)              0         \n",
            "_________________________________________________________________\n",
            "dense_1 (Dense)              (None, 1024)              1049600   \n",
            "_________________________________________________________________\n",
            "batch_normalization_2 (Batch (None, 1024)              4096      \n",
            "_________________________________________________________________\n",
            "activation_1 (Activation)    (None, 1024)              0         \n",
            "_________________________________________________________________\n",
            "dropout_2 (Dropout)          (None, 1024)              0         \n",
            "_________________________________________________________________\n",
            "dense_2 (Dense)              (None, 1)                 1025      \n",
            "=================================================================\n",
            "Total params: 41,564,993\n",
            "Trainable params: 26,796,033\n",
            "Non-trainable params: 14,768,960\n",
            "_________________________________________________________________\n"
          ],
          "name": "stdout"
        }
      ]
    },
    {
      "cell_type": "code",
      "metadata": {
        "id": "2rox3RQ00hN4"
      },
      "source": [
        "# Model Compile \r\n",
        "OPT    = tensorflow.keras.optimizers.Adam(lr=0.001)\r\n",
        "\r\n",
        "model.compile(loss='binary_crossentropy',\r\n",
        "              metrics=[tensorflow.keras.metrics.AUC(name = 'auc')],\r\n",
        "              optimizer=OPT)"
      ],
      "execution_count": null,
      "outputs": []
    },
    {
      "cell_type": "code",
      "metadata": {
        "id": "MqlCuO9G0hSi"
      },
      "source": [
        "# Defining Callbacks\r\n",
        "\r\n",
        "filepath = './best_weights.hdf5'\r\n",
        "\r\n",
        "earlystopping = EarlyStopping(monitor = 'val_auc', \r\n",
        "                              mode = 'max' , \r\n",
        "                              patience = 5,\r\n",
        "                              verbose = 1)\r\n",
        "\r\n",
        "checkpoint    = ModelCheckpoint(filepath, \r\n",
        "                                monitor = 'val_auc', \r\n",
        "                                mode='max', \r\n",
        "                                save_best_only=True, \r\n",
        "                                verbose = 1)\r\n",
        "\r\n",
        "\r\n",
        "callback_list = [earlystopping, checkpoint]"
      ],
      "execution_count": null,
      "outputs": []
    },
    {
      "cell_type": "code",
      "metadata": {
        "colab": {
          "base_uri": "https://localhost:8080/"
        },
        "id": "PJyj47Qt3YfL",
        "outputId": "7ca8aaed-b73c-4560-f67b-0cd258146077"
      },
      "source": [
        "# Model Fitting \r\n",
        "\r\n",
        "model_history=model.fit(train_dataset,\r\n",
        "                        validation_data=valid_dataset,\r\n",
        "                        epochs = 4,\r\n",
        "                        callbacks = callback_list,\r\n",
        "                        verbose = 1)"
      ],
      "execution_count": null,
      "outputs": [
        {
          "output_type": "stream",
          "text": [
            "Epoch 1/4\n",
            "142/142 [==============================] - 15104s 106s/step - loss: 0.4206 - auc: 0.9024 - val_loss: 0.2984 - val_auc: 0.9471\n",
            "\n",
            "Epoch 00001: val_auc improved from -inf to 0.94714, saving model to ./best_weights.hdf5\n",
            "Epoch 2/4\n",
            "142/142 [==============================] - 10888s 77s/step - loss: 0.2706 - auc: 0.9553 - val_loss: 0.2745 - val_auc: 0.9562\n",
            "\n",
            "Epoch 00002: val_auc improved from 0.94714 to 0.95616, saving model to ./best_weights.hdf5\n",
            "Epoch 3/4\n",
            "142/142 [==============================] - 10810s 76s/step - loss: 0.2493 - auc: 0.9620 - val_loss: 0.2892 - val_auc: 0.9517\n",
            "\n",
            "Epoch 00003: val_auc did not improve from 0.95616\n",
            "Epoch 4/4\n",
            " 89/142 [=================>............] - ETA: 54:08 - loss: 0.2182 - auc: 0.9706"
          ],
          "name": "stdout"
        }
      ]
    },
    {
      "cell_type": "code",
      "metadata": {
        "id": "ia8Aoh2xzYvG",
        "colab": {
          "base_uri": "https://localhost:8080/"
        },
        "outputId": "6e0f97aa-9ad4-46c6-9e70-94eb7202f99d"
      },
      "source": [
        "# Evaluating Loss and AUC - Test Data \r\n",
        "\r\n",
        "model.evaluate(test_data)"
      ],
      "execution_count": null,
      "outputs": [
        {
          "output_type": "stream",
          "text": [
            "20/20 [==============================] - 1259s 63s/step - loss: 0.8304 - auc: 0.4296\n"
          ],
          "name": "stdout"
        },
        {
          "output_type": "execute_result",
          "data": {
            "text/plain": [
              "[0.8204374313354492, 0.42705076932907104]"
            ]
          },
          "metadata": {
            "tags": []
          },
          "execution_count": 41
        }
      ]
    },
    {
      "cell_type": "markdown",
      "metadata": {
        "id": "FIF_otGAK_TH"
      },
      "source": [
        "# `                                                  Modèle 5 :\r\n",
        "\r\n",
        "> Bloc en retrait\r\n",
        "\r\n"
      ]
    },
    {
      "cell_type": "code",
      "metadata": {
        "id": "2wQXAzmtIDe3"
      },
      "source": [
        "import numpy as np\r\n",
        "\r\n",
        "import cv2\r\n",
        "\r\n",
        "import tensorflow as tf\r\n",
        "import keras\r\n",
        "from keras.models import Sequential, load_model\r\n",
        "from keras.layers import Dense, Conv2D, MaxPooling2D, Flatten, Dropout\r\n",
        "from keras.losses import categorical_crossentropy\r\n",
        "from keras.preprocessing.image import ImageDataGenerator\r\n",
        "from keras.callbacks import ModelCheckpoint\r\n",
        "from PIL import Image"
      ],
      "execution_count": null,
      "outputs": []
    },
    {
      "cell_type": "code",
      "metadata": {
        "id": "6oc7W_wckiSy"
      },
      "source": [
        "train_path = '/content/drive/MyDrive/DATASET/TRAIN'\r\n",
        "test_path = '/content/drive/MyDrive/DATASET/TRAIN'\r\n",
        "IMG_BREDTH = 30\r\n",
        "IMG_HEIGHT = 60\r\n",
        "num_classes = 2"
      ],
      "execution_count": null,
      "outputs": []
    },
    {
      "cell_type": "code",
      "metadata": {
        "colab": {
          "base_uri": "https://localhost:8080/"
        },
        "id": "qoi6fUHfkiVb",
        "outputId": "21a1643c-b7e0-40da-b497-f6e2aa532aa6"
      },
      "source": [
        "#ImageDataGenerator class to perform data augmentation\r\n",
        "train_batch = ImageDataGenerator(featurewise_center=False,\r\n",
        "                                 samplewise_center=False, \r\n",
        "                                 featurewise_std_normalization=False, \r\n",
        "                                 samplewise_std_normalization=False, \r\n",
        "                                 zca_whitening=False, \r\n",
        "                                 rotation_range=45, \r\n",
        "                                 width_shift_range=0.2, \r\n",
        "                                 height_shift_range=0.2, \r\n",
        "                                 horizontal_flip=True, \r\n",
        "                                 vertical_flip=False).flow_from_directory('/content/drive/MyDrive/DATASET/TRAIN', \r\n",
        "                                                                          target_size=(IMG_HEIGHT, IMG_BREDTH), \r\n",
        "                                                                          classes=['O', 'R'], \r\n",
        "                                                                          batch_size=100)\r\n",
        "\r\n",
        "test_batch = ImageDataGenerator().flow_from_directory('/content/drive/MyDrive/DATASET/TRAIN', \r\n",
        "                                                      target_size=(IMG_HEIGHT, IMG_BREDTH), \r\n",
        "                                                      classes=['O', 'R'], \r\n",
        "                                                      batch_size=100)"
      ],
      "execution_count": null,
      "outputs": [
        {
          "output_type": "stream",
          "text": [
            "Found 22623 images belonging to 2 classes.\n",
            "Found 22623 images belonging to 2 classes.\n"
          ],
          "name": "stdout"
        }
      ]
    },
    {
      "cell_type": "code",
      "metadata": {
        "id": "vzpY5_VekiYM"
      },
      "source": [
        "def cnn_model():\r\n",
        "    \r\n",
        "    model = Sequential()\r\n",
        "\r\n",
        "    model.add(Conv2D(32, kernel_size=(3, 3), padding='same', activation='relu', input_shape=(IMG_HEIGHT,IMG_BREDTH,3)))\r\n",
        "    model.add(Conv2D(32, kernel_size=(3, 3), activation='relu'))\r\n",
        "    model.add(Conv2D(32, kernel_size=(3, 3), activation='relu'))\r\n",
        "    model.add(MaxPooling2D(pool_size=(2, 2)))\r\n",
        "    model.add(Dropout(0.25))\r\n",
        "\r\n",
        "    model.add(Conv2D(64, kernel_size=(3, 3), activation='relu'))\r\n",
        "    model.add(Conv2D(64, kernel_size=(3, 3), activation='relu'))\r\n",
        "    model.add(Conv2D(64, kernel_size=(3, 3), activation='relu'))\r\n",
        "    model.add(Dropout(0.25))\r\n",
        "    \r\n",
        "    model.add(Flatten())\r\n",
        "\r\n",
        "    model.add(Dense(512, activation='relu'))\r\n",
        "    model.add(Dropout(0.5))\r\n",
        "    model.add(Dense(512, activation='relu'))\r\n",
        "    model.add(Dropout(0.5))\r\n",
        "\r\n",
        "    model.add(Dense(num_classes, activation='softmax'))\r\n",
        "              \r\n",
        "    model.summary()\r\n",
        "              \r\n",
        "    return model\r\n",
        "\r\n",
        "def use_model(path):\r\n",
        "    \r\n",
        "    model = load_model('best_waste_classifier.h5')\r\n",
        "    pic = plt.imread(path)\r\n",
        "    pic = cv2.resize(pic, (IMG_BREDTH, IMG_HEIGHT))\r\n",
        "    pic = np.expand_dims(pic, axis=0)\r\n",
        "    classes = model.predict_classes(pic)\r\n",
        "    return classes"
      ],
      "execution_count": null,
      "outputs": []
    },
    {
      "cell_type": "code",
      "metadata": {
        "colab": {
          "base_uri": "https://localhost:8080/"
        },
        "id": "MSU0QGlRkibZ",
        "outputId": "fa13c7eb-c48b-40c5-e776-0f79de68a04e"
      },
      "source": [
        "model = cnn_model()"
      ],
      "execution_count": null,
      "outputs": [
        {
          "output_type": "stream",
          "text": [
            "Model: \"sequential\"\n",
            "_________________________________________________________________\n",
            "Layer (type)                 Output Shape              Param #   \n",
            "=================================================================\n",
            "conv2d (Conv2D)              (None, 60, 30, 32)        896       \n",
            "_________________________________________________________________\n",
            "conv2d_1 (Conv2D)            (None, 58, 28, 32)        9248      \n",
            "_________________________________________________________________\n",
            "conv2d_2 (Conv2D)            (None, 56, 26, 32)        9248      \n",
            "_________________________________________________________________\n",
            "max_pooling2d (MaxPooling2D) (None, 28, 13, 32)        0         \n",
            "_________________________________________________________________\n",
            "dropout (Dropout)            (None, 28, 13, 32)        0         \n",
            "_________________________________________________________________\n",
            "conv2d_3 (Conv2D)            (None, 26, 11, 64)        18496     \n",
            "_________________________________________________________________\n",
            "conv2d_4 (Conv2D)            (None, 24, 9, 64)         36928     \n",
            "_________________________________________________________________\n",
            "conv2d_5 (Conv2D)            (None, 22, 7, 64)         36928     \n",
            "_________________________________________________________________\n",
            "dropout_1 (Dropout)          (None, 22, 7, 64)         0         \n",
            "_________________________________________________________________\n",
            "flatten (Flatten)            (None, 9856)              0         \n",
            "_________________________________________________________________\n",
            "dense (Dense)                (None, 512)               5046784   \n",
            "_________________________________________________________________\n",
            "dropout_2 (Dropout)          (None, 512)               0         \n",
            "_________________________________________________________________\n",
            "dense_1 (Dense)              (None, 512)               262656    \n",
            "_________________________________________________________________\n",
            "dropout_3 (Dropout)          (None, 512)               0         \n",
            "_________________________________________________________________\n",
            "dense_2 (Dense)              (None, 2)                 1026      \n",
            "=================================================================\n",
            "Total params: 5,422,210\n",
            "Trainable params: 5,422,210\n",
            "Non-trainable params: 0\n",
            "_________________________________________________________________\n"
          ],
          "name": "stdout"
        }
      ]
    },
    {
      "cell_type": "code",
      "metadata": {
        "id": "SokTzy_8ndmr"
      },
      "source": [
        "\r\n",
        "checkpoint = ModelCheckpoint('best_waste_classifier.h5', \r\n",
        "                             monitor='val_loss', \r\n",
        "                             verbose=0, \r\n",
        "                             save_best_only=True, \r\n",
        "                             mode='auto')"
      ],
      "execution_count": null,
      "outputs": []
    },
    {
      "cell_type": "code",
      "metadata": {
        "id": "z6ZibQRpndps"
      },
      "source": [
        "a=model.compile(loss='categorical_crossentropy', metrics=['accuracy'])"
      ],
      "execution_count": null,
      "outputs": []
    },
    {
      "cell_type": "code",
      "metadata": {
        "colab": {
          "base_uri": "https://localhost:8080/"
        },
        "id": "X6hQfyJbndsV",
        "outputId": "0d7af310-d383-4351-cf9f-dbcbe683735a"
      },
      "source": [
        "print(a)"
      ],
      "execution_count": null,
      "outputs": [
        {
          "output_type": "stream",
          "text": [
            "None\n"
          ],
          "name": "stdout"
        }
      ]
    },
    {
      "cell_type": "code",
      "metadata": {
        "colab": {
          "base_uri": "https://localhost:8080/"
        },
        "id": "PezPROHSndvZ",
        "outputId": "1330f286-f7f8-4e05-a5ea-c65dec832334"
      },
      "source": [
        "model = model.fit_generator(train_batch,  \r\n",
        "                             validation_data=test_batch,  \r\n",
        "                             epochs=100, \r\n",
        "                             verbose=1, \r\n",
        "                            callbacks=[checkpoint])"
      ],
      "execution_count": null,
      "outputs": [
        {
          "output_type": "stream",
          "text": [
            "/usr/local/lib/python3.6/dist-packages/tensorflow/python/keras/engine/training.py:1844: UserWarning: `Model.fit_generator` is deprecated and will be removed in a future version. Please use `Model.fit`, which supports generators.\n",
            "  warnings.warn('`Model.fit_generator` is deprecated and '\n"
          ],
          "name": "stderr"
        },
        {
          "output_type": "stream",
          "text": [
            "Epoch 1/100\n",
            "227/227 [==============================] - 13619s 60s/step - loss: 7.5013 - accuracy: 0.5685 - val_loss: 0.4862 - val_accuracy: 0.8014\n",
            "Epoch 2/100\n",
            "227/227 [==============================] - 285s 1s/step - loss: 0.5564 - accuracy: 0.7541 - val_loss: 0.5460 - val_accuracy: 0.7551\n",
            "Epoch 3/100\n",
            "227/227 [==============================] - 279s 1s/step - loss: 0.4718 - accuracy: 0.7988 - val_loss: 0.4815 - val_accuracy: 0.7933\n",
            "Epoch 4/100\n",
            "227/227 [==============================] - 290s 1s/step - loss: 0.4507 - accuracy: 0.8049 - val_loss: 0.3995 - val_accuracy: 0.8216\n",
            "Epoch 5/100\n",
            "227/227 [==============================] - 283s 1s/step - loss: 0.4367 - accuracy: 0.8120 - val_loss: 0.5224 - val_accuracy: 0.7576\n",
            "Epoch 6/100\n",
            "227/227 [==============================] - 278s 1s/step - loss: 0.4381 - accuracy: 0.8072 - val_loss: 0.3849 - val_accuracy: 0.8337\n",
            "Epoch 7/100\n",
            "227/227 [==============================] - 283s 1s/step - loss: 0.4373 - accuracy: 0.8097 - val_loss: 0.4802 - val_accuracy: 0.7918\n",
            "Epoch 8/100\n",
            "227/227 [==============================] - 272s 1s/step - loss: 0.4360 - accuracy: 0.8132 - val_loss: 0.4104 - val_accuracy: 0.8300\n",
            "Epoch 9/100\n",
            "227/227 [==============================] - 271s 1s/step - loss: 0.4228 - accuracy: 0.8204 - val_loss: 0.4039 - val_accuracy: 0.8342\n",
            "Epoch 10/100\n",
            "227/227 [==============================] - 272s 1s/step - loss: 0.4288 - accuracy: 0.8148 - val_loss: 0.4237 - val_accuracy: 0.8286\n",
            "Epoch 11/100\n",
            "227/227 [==============================] - 272s 1s/step - loss: 0.4337 - accuracy: 0.8203 - val_loss: 0.4072 - val_accuracy: 0.8292\n",
            "Epoch 12/100\n",
            "227/227 [==============================] - 277s 1s/step - loss: 0.4162 - accuracy: 0.8205 - val_loss: 0.4392 - val_accuracy: 0.8181\n",
            "Epoch 13/100\n",
            "227/227 [==============================] - 273s 1s/step - loss: 0.4188 - accuracy: 0.8245 - val_loss: 0.3945 - val_accuracy: 0.8390\n",
            "Epoch 14/100\n",
            "227/227 [==============================] - 273s 1s/step - loss: 0.4241 - accuracy: 0.8210 - val_loss: 0.4976 - val_accuracy: 0.7533\n",
            "Epoch 15/100\n",
            "227/227 [==============================] - 278s 1s/step - loss: 0.4326 - accuracy: 0.8198 - val_loss: 0.3822 - val_accuracy: 0.8452\n",
            "Epoch 16/100\n",
            "227/227 [==============================] - 285s 1s/step - loss: 0.4380 - accuracy: 0.8096 - val_loss: 0.3820 - val_accuracy: 0.8377\n",
            "Epoch 17/100\n",
            "227/227 [==============================] - 277s 1s/step - loss: 0.4185 - accuracy: 0.8291 - val_loss: 0.4487 - val_accuracy: 0.8190\n",
            "Epoch 18/100\n",
            "227/227 [==============================] - 275s 1s/step - loss: 0.4206 - accuracy: 0.8242 - val_loss: 0.4559 - val_accuracy: 0.8151\n",
            "Epoch 19/100\n",
            "227/227 [==============================] - 275s 1s/step - loss: 0.4205 - accuracy: 0.8233 - val_loss: 0.3993 - val_accuracy: 0.8271\n",
            "Epoch 20/100\n",
            "227/227 [==============================] - 287s 1s/step - loss: 0.4325 - accuracy: 0.8218 - val_loss: 0.3830 - val_accuracy: 0.8325\n",
            "Epoch 21/100\n",
            "227/227 [==============================] - 279s 1s/step - loss: 0.4231 - accuracy: 0.8210 - val_loss: 0.4129 - val_accuracy: 0.8366\n",
            "Epoch 22/100\n",
            "227/227 [==============================] - 275s 1s/step - loss: 0.4308 - accuracy: 0.8170 - val_loss: 0.3835 - val_accuracy: 0.8371\n",
            "Epoch 23/100\n",
            "227/227 [==============================] - 278s 1s/step - loss: 0.4310 - accuracy: 0.8182 - val_loss: 0.4883 - val_accuracy: 0.8140\n",
            "Epoch 24/100\n",
            "227/227 [==============================] - 280s 1s/step - loss: 0.4300 - accuracy: 0.8204 - val_loss: 0.4360 - val_accuracy: 0.8193\n",
            "Epoch 25/100\n",
            "227/227 [==============================] - 282s 1s/step - loss: 0.4639 - accuracy: 0.8114 - val_loss: 0.3924 - val_accuracy: 0.8408\n",
            "Epoch 26/100\n",
            "227/227 [==============================] - 281s 1s/step - loss: 0.4287 - accuracy: 0.8201 - val_loss: 0.3944 - val_accuracy: 0.8393\n",
            "Epoch 27/100\n",
            "227/227 [==============================] - 283s 1s/step - loss: 0.4350 - accuracy: 0.8158 - val_loss: 0.3923 - val_accuracy: 0.8271\n",
            "Epoch 28/100\n",
            "227/227 [==============================] - 286s 1s/step - loss: 0.4315 - accuracy: 0.8211 - val_loss: 0.4054 - val_accuracy: 0.8376\n",
            "Epoch 29/100\n",
            "227/227 [==============================] - 286s 1s/step - loss: 0.4521 - accuracy: 0.8133 - val_loss: 0.4857 - val_accuracy: 0.8059\n",
            "Epoch 30/100\n",
            "227/227 [==============================] - 280s 1s/step - loss: 0.4305 - accuracy: 0.8167 - val_loss: 0.3831 - val_accuracy: 0.8393\n",
            "Epoch 31/100\n",
            "227/227 [==============================] - 288s 1s/step - loss: 0.4251 - accuracy: 0.8221 - val_loss: 0.3811 - val_accuracy: 0.8396\n",
            "Epoch 32/100\n",
            "227/227 [==============================] - 284s 1s/step - loss: 0.4386 - accuracy: 0.8154 - val_loss: 0.3895 - val_accuracy: 0.8372\n",
            "Epoch 33/100\n",
            "227/227 [==============================] - 282s 1s/step - loss: 0.4382 - accuracy: 0.8177 - val_loss: 0.4420 - val_accuracy: 0.8320\n",
            "Epoch 34/100\n",
            "227/227 [==============================] - 276s 1s/step - loss: 0.4613 - accuracy: 0.8097 - val_loss: 0.4111 - val_accuracy: 0.8403\n",
            "Epoch 35/100\n",
            "227/227 [==============================] - 276s 1s/step - loss: 0.4304 - accuracy: 0.8170 - val_loss: 0.3870 - val_accuracy: 0.8273\n",
            "Epoch 36/100\n",
            "227/227 [==============================] - 279s 1s/step - loss: 0.4426 - accuracy: 0.8106 - val_loss: 0.4368 - val_accuracy: 0.8160\n",
            "Epoch 37/100\n",
            "227/227 [==============================] - 285s 1s/step - loss: 0.4584 - accuracy: 0.8051 - val_loss: 0.3976 - val_accuracy: 0.8303\n",
            "Epoch 38/100\n",
            "227/227 [==============================] - 297s 1s/step - loss: 0.4488 - accuracy: 0.8069 - val_loss: 0.4546 - val_accuracy: 0.8206\n",
            "Epoch 39/100\n",
            "227/227 [==============================] - 282s 1s/step - loss: 0.4557 - accuracy: 0.8062 - val_loss: 0.4308 - val_accuracy: 0.7894\n",
            "Epoch 40/100\n",
            "227/227 [==============================] - 291s 1s/step - loss: 0.4462 - accuracy: 0.8091 - val_loss: 0.3977 - val_accuracy: 0.8372\n",
            "Epoch 41/100\n",
            "227/227 [==============================] - 291s 1s/step - loss: 0.4687 - accuracy: 0.8060 - val_loss: 0.4107 - val_accuracy: 0.8276\n",
            "Epoch 42/100\n",
            "227/227 [==============================] - 284s 1s/step - loss: 0.4645 - accuracy: 0.8008 - val_loss: 0.4996 - val_accuracy: 0.7766\n",
            "Epoch 43/100\n",
            "227/227 [==============================] - 284s 1s/step - loss: 0.4652 - accuracy: 0.8068 - val_loss: 0.4208 - val_accuracy: 0.8231\n",
            "Epoch 44/100\n",
            "227/227 [==============================] - 290s 1s/step - loss: 0.4594 - accuracy: 0.8019 - val_loss: 0.3957 - val_accuracy: 0.8262\n",
            "Epoch 45/100\n",
            "227/227 [==============================] - 292s 1s/step - loss: 0.4553 - accuracy: 0.8022 - val_loss: 0.4469 - val_accuracy: 0.8171\n",
            "Epoch 46/100\n",
            "227/227 [==============================] - 286s 1s/step - loss: 0.4683 - accuracy: 0.8035 - val_loss: 0.4225 - val_accuracy: 0.8182\n",
            "Epoch 47/100\n",
            "227/227 [==============================] - 295s 1s/step - loss: 0.4599 - accuracy: 0.8082 - val_loss: 0.4061 - val_accuracy: 0.8231\n",
            "Epoch 48/100\n",
            "227/227 [==============================] - 291s 1s/step - loss: 0.6847 - accuracy: 0.7914 - val_loss: 0.4228 - val_accuracy: 0.8133\n",
            "Epoch 49/100\n",
            "227/227 [==============================] - 281s 1s/step - loss: 0.4639 - accuracy: 0.7995 - val_loss: 0.4815 - val_accuracy: 0.8037\n",
            "Epoch 50/100\n",
            "227/227 [==============================] - 281s 1s/step - loss: 0.4769 - accuracy: 0.8059 - val_loss: 0.5129 - val_accuracy: 0.7793\n",
            "Epoch 51/100\n",
            "227/227 [==============================] - 282s 1s/step - loss: 0.5681 - accuracy: 0.7119 - val_loss: 0.4113 - val_accuracy: 0.8296\n",
            "Epoch 52/100\n",
            "227/227 [==============================] - 289s 1s/step - loss: 0.4602 - accuracy: 0.8019 - val_loss: 0.4229 - val_accuracy: 0.8029\n",
            "Epoch 53/100\n",
            "227/227 [==============================] - 286s 1s/step - loss: 0.4725 - accuracy: 0.8005 - val_loss: 0.4876 - val_accuracy: 0.7440\n",
            "Epoch 54/100\n",
            "227/227 [==============================] - 280s 1s/step - loss: 0.6761 - accuracy: 0.8059 - val_loss: 0.4374 - val_accuracy: 0.7969\n",
            "Epoch 55/100\n",
            "227/227 [==============================] - 277s 1s/step - loss: 0.4649 - accuracy: 0.7975 - val_loss: 0.4241 - val_accuracy: 0.8309\n",
            "Epoch 56/100\n",
            "227/227 [==============================] - 272s 1s/step - loss: 0.4825 - accuracy: 0.7903 - val_loss: 0.4467 - val_accuracy: 0.7884\n",
            "Epoch 57/100\n",
            "227/227 [==============================] - 273s 1s/step - loss: 0.4685 - accuracy: 0.7922 - val_loss: 0.4619 - val_accuracy: 0.8122\n",
            "Epoch 58/100\n",
            "227/227 [==============================] - 277s 1s/step - loss: 0.4638 - accuracy: 0.7949 - val_loss: 0.4295 - val_accuracy: 0.8121\n",
            "Epoch 59/100\n",
            "227/227 [==============================] - 273s 1s/step - loss: 0.4924 - accuracy: 0.7891 - val_loss: 0.4268 - val_accuracy: 0.8159\n",
            "Epoch 60/100\n",
            "227/227 [==============================] - 275s 1s/step - loss: 0.4923 - accuracy: 0.7805 - val_loss: 0.4194 - val_accuracy: 0.8235\n",
            "Epoch 61/100\n",
            "227/227 [==============================] - 270s 1s/step - loss: 0.4539 - accuracy: 0.8057 - val_loss: 0.5009 - val_accuracy: 0.7755\n",
            "Epoch 62/100\n",
            "227/227 [==============================] - 272s 1s/step - loss: 0.4850 - accuracy: 0.7897 - val_loss: 0.4274 - val_accuracy: 0.8095\n",
            "Epoch 63/100\n",
            "227/227 [==============================] - 273s 1s/step - loss: 0.4685 - accuracy: 0.7992 - val_loss: 0.4388 - val_accuracy: 0.8130\n",
            "Epoch 64/100\n",
            "227/227 [==============================] - 269s 1s/step - loss: 0.4683 - accuracy: 0.7946 - val_loss: 0.4860 - val_accuracy: 0.7882\n",
            "Epoch 65/100\n",
            "227/227 [==============================] - 258s 1s/step - loss: 0.5419 - accuracy: 0.7448 - val_loss: 0.4342 - val_accuracy: 0.8009\n",
            "Epoch 66/100\n",
            "227/227 [==============================] - 252s 1s/step - loss: 0.5309 - accuracy: 0.7866 - val_loss: 0.4748 - val_accuracy: 0.7903\n",
            "Epoch 67/100\n",
            "227/227 [==============================] - 264s 1s/step - loss: 0.6135 - accuracy: 0.7928 - val_loss: 0.4807 - val_accuracy: 0.7871\n",
            "Epoch 68/100\n",
            "227/227 [==============================] - 258s 1s/step - loss: 0.4727 - accuracy: 0.7892 - val_loss: 0.8046 - val_accuracy: 0.5107\n",
            "Epoch 69/100\n",
            "227/227 [==============================] - 266s 1s/step - loss: 0.6219 - accuracy: 0.6296 - val_loss: 0.4214 - val_accuracy: 0.8206\n",
            "Epoch 70/100\n",
            "227/227 [==============================] - 268s 1s/step - loss: 0.4903 - accuracy: 0.7843 - val_loss: 1.1145 - val_accuracy: 0.5851\n",
            "Epoch 71/100\n",
            "227/227 [==============================] - 260s 1s/step - loss: 0.5073 - accuracy: 0.7654 - val_loss: 0.4557 - val_accuracy: 0.8013\n",
            "Epoch 72/100\n",
            "227/227 [==============================] - 257s 1s/step - loss: 0.5876 - accuracy: 0.7731 - val_loss: 0.4538 - val_accuracy: 0.7987\n",
            "Epoch 73/100\n",
            "227/227 [==============================] - 281s 1s/step - loss: 0.4803 - accuracy: 0.7848 - val_loss: 0.6918 - val_accuracy: 0.6000\n",
            "Epoch 74/100\n",
            "227/227 [==============================] - 277s 1s/step - loss: 0.5922 - accuracy: 0.7439 - val_loss: 0.5262 - val_accuracy: 0.7552\n",
            "Epoch 75/100\n",
            "227/227 [==============================] - 286s 1s/step - loss: 0.5168 - accuracy: 0.7608 - val_loss: 0.6824 - val_accuracy: 0.5770\n",
            "Epoch 76/100\n",
            "227/227 [==============================] - 282s 1s/step - loss: 0.5916 - accuracy: 0.6745 - val_loss: 0.4751 - val_accuracy: 0.7916\n",
            "Epoch 77/100\n",
            "227/227 [==============================] - 268s 1s/step - loss: 0.4959 - accuracy: 0.7709 - val_loss: 0.5527 - val_accuracy: 0.7167\n",
            "Epoch 78/100\n",
            "227/227 [==============================] - 259s 1s/step - loss: 0.5262 - accuracy: 0.7500 - val_loss: 0.5490 - val_accuracy: 0.7217\n",
            "Epoch 79/100\n",
            "227/227 [==============================] - 265s 1s/step - loss: 0.5306 - accuracy: 0.7532 - val_loss: 0.6884 - val_accuracy: 0.5567\n",
            "Epoch 80/100\n",
            "227/227 [==============================] - 267s 1s/step - loss: 0.6906 - accuracy: 0.5539 - val_loss: 0.6868 - val_accuracy: 0.5567\n",
            "Epoch 81/100\n",
            "227/227 [==============================] - 268s 1s/step - loss: 0.7048 - accuracy: 0.5560 - val_loss: 0.6868 - val_accuracy: 0.5567\n",
            "Epoch 82/100\n",
            "227/227 [==============================] - 261s 1s/step - loss: 0.6884 - accuracy: 0.5532 - val_loss: 0.6867 - val_accuracy: 0.5567\n",
            "Epoch 83/100\n",
            "227/227 [==============================] - 260s 1s/step - loss: 0.6885 - accuracy: 0.5543 - val_loss: 0.6868 - val_accuracy: 0.5567\n",
            "Epoch 84/100\n",
            "227/227 [==============================] - 259s 1s/step - loss: 0.6870 - accuracy: 0.5588 - val_loss: 0.6883 - val_accuracy: 0.5567\n",
            "Epoch 85/100\n",
            "227/227 [==============================] - 255s 1s/step - loss: 0.6867 - accuracy: 0.5599 - val_loss: 0.6873 - val_accuracy: 0.5567\n",
            "Epoch 86/100\n",
            "227/227 [==============================] - 254s 1s/step - loss: 0.6861 - accuracy: 0.5627 - val_loss: 0.6868 - val_accuracy: 0.5567\n",
            "Epoch 87/100\n",
            "227/227 [==============================] - 270s 1s/step - loss: 0.6908 - accuracy: 0.5564 - val_loss: 0.6867 - val_accuracy: 0.5567\n",
            "Epoch 88/100\n",
            "227/227 [==============================] - 284s 1s/step - loss: 0.6875 - accuracy: 0.5581 - val_loss: 0.6868 - val_accuracy: 0.5567\n",
            "Epoch 89/100\n",
            "227/227 [==============================] - 267s 1s/step - loss: 0.6874 - accuracy: 0.5569 - val_loss: 0.6867 - val_accuracy: 0.5567\n",
            "Epoch 90/100\n",
            "227/227 [==============================] - 267s 1s/step - loss: 0.6868 - accuracy: 0.5587 - val_loss: 0.6867 - val_accuracy: 0.5567\n",
            "Epoch 91/100\n",
            "227/227 [==============================] - 276s 1s/step - loss: 0.6980 - accuracy: 0.5556 - val_loss: 0.6868 - val_accuracy: 0.5567\n",
            "Epoch 92/100\n",
            "227/227 [==============================] - 277s 1s/step - loss: 0.6884 - accuracy: 0.5520 - val_loss: 0.6867 - val_accuracy: 0.5567\n",
            "Epoch 93/100\n",
            "227/227 [==============================] - 279s 1s/step - loss: 0.6874 - accuracy: 0.5551 - val_loss: 0.6867 - val_accuracy: 0.5567\n",
            "Epoch 94/100\n",
            "227/227 [==============================] - 285s 1s/step - loss: 0.6871 - accuracy: 0.5559 - val_loss: 0.6867 - val_accuracy: 0.5567\n",
            "Epoch 95/100\n",
            "227/227 [==============================] - 288s 1s/step - loss: 0.6868 - accuracy: 0.5584 - val_loss: 0.6868 - val_accuracy: 0.5567\n",
            "Epoch 96/100\n",
            "227/227 [==============================] - 287s 1s/step - loss: 0.6853 - accuracy: 0.5618 - val_loss: 0.6867 - val_accuracy: 0.5567\n",
            "Epoch 97/100\n",
            "227/227 [==============================] - 294s 1s/step - loss: 0.6870 - accuracy: 0.5561 - val_loss: 0.6868 - val_accuracy: 0.5567\n",
            "Epoch 98/100\n",
            "227/227 [==============================] - 293s 1s/step - loss: 0.6864 - accuracy: 0.5603 - val_loss: 0.6869 - val_accuracy: 0.5567\n",
            "Epoch 99/100\n",
            "227/227 [==============================] - ETA: 0s - loss: 0.6880 - accuracy: 0.5512"
          ],
          "name": "stdout"
        }
      ]
    }
  ]
}